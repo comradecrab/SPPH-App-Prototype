{
 "cells": [
  {
   "cell_type": "code",
   "execution_count": 1,
   "id": "9e5482a6",
   "metadata": {
    "_cell_guid": "b1076dfc-b9ad-4769-8c92-a6c4dae69d19",
    "_uuid": "8f2839f25d086af736a60e9eeb907d3b93b6e0e5",
    "execution": {
     "iopub.execute_input": "2023-10-31T23:03:06.153094Z",
     "iopub.status.busy": "2023-10-31T23:03:06.152795Z",
     "iopub.status.idle": "2023-10-31T23:03:07.912954Z",
     "shell.execute_reply": "2023-10-31T23:03:07.912046Z"
    },
    "papermill": {
     "duration": 1.767179,
     "end_time": "2023-10-31T23:03:07.914859",
     "exception": false,
     "start_time": "2023-10-31T23:03:06.147680",
     "status": "completed"
    },
    "tags": []
   },
   "outputs": [],
   "source": [
    "import pandas as pd\n",
    "import numpy as np\n",
    "import random\n",
    "import seaborn as sns\n",
    "import matplotlib.pyplot as plt\n",
    "import base64\n",
    "import math\n",
    "from IPython.display import HTML\n",
    "from sklearn.linear_model import LinearRegression\n",
    "from sklearn.metrics import accuracy_score\n",
    "import csv\n",
    "\n",
    "\n",
    "# Create empty dataframe\n",
    "\n",
    "#define data dimensions\n",
    "\n",
    "n = 100"
   ]
  },
  {
   "cell_type": "code",
   "execution_count": 2,
   "id": "28978810",
   "metadata": {
    "execution": {
     "iopub.execute_input": "2023-10-31T23:03:07.924047Z",
     "iopub.status.busy": "2023-10-31T23:03:07.923594Z",
     "iopub.status.idle": "2023-10-31T23:03:07.928960Z",
     "shell.execute_reply": "2023-10-31T23:03:07.928335Z"
    },
    "papermill": {
     "duration": 0.010705,
     "end_time": "2023-10-31T23:03:07.930437",
     "exception": false,
     "start_time": "2023-10-31T23:03:07.919732",
     "status": "completed"
    },
    "tags": []
   },
   "outputs": [],
   "source": [
    "def generate_data(n):\n",
    "    patient_age = []\n",
    "    exercise_minutes = []\n",
    "   \n",
    "    for x in range(n):\n",
    "        age = random.randint(18, 99)\n",
    "        patient_age.append(age)\n",
    "\n",
    "\n",
    "        if age > 50:\n",
    "            exercise_minutes.append(random.randint(15, 80))\n",
    "        else:\n",
    "            exercise_minutes.append(random.randint(50, 180))\n",
    "            \n",
    "\n",
    "    return patient_age, exercise_minutes\n",
    "\n",
    "\n",
    "\n",
    "\n",
    "patient_age, exercise_minutes = generate_data(n)"
   ]
  },
  {
   "cell_type": "code",
   "execution_count": 3,
   "id": "943fe966",
   "metadata": {
    "execution": {
     "iopub.execute_input": "2023-10-31T23:03:07.937687Z",
     "iopub.status.busy": "2023-10-31T23:03:07.937254Z",
     "iopub.status.idle": "2023-10-31T23:03:07.942004Z",
     "shell.execute_reply": "2023-10-31T23:03:07.941459Z"
    },
    "papermill": {
     "duration": 0.010241,
     "end_time": "2023-10-31T23:03:07.943784",
     "exception": false,
     "start_time": "2023-10-31T23:03:07.933543",
     "status": "completed"
    },
    "tags": []
   },
   "outputs": [],
   "source": [
    "def generate_data(n):\n",
    "    medication = []\n",
    "    diabetes_type = []\n",
    "    \n",
    "    for _ in range(n):\n",
    "        d_type = random.randint(1, 2)\n",
    "        diabetes_type.append(d_type)\n",
    "        \n",
    "        if d_type > 1:\n",
    "            medication.append(random.randint(5, 8))\n",
    "        else:\n",
    "            medication.append(random.randint(1, 4))\n",
    "            \n",
    "    return diabetes_type, medication\n",
    "\n",
    "diabetes_type, medication = generate_data(n)"
   ]
  },
  {
   "cell_type": "code",
   "execution_count": 4,
   "id": "08485ed5",
   "metadata": {
    "execution": {
     "iopub.execute_input": "2023-10-31T23:03:07.950915Z",
     "iopub.status.busy": "2023-10-31T23:03:07.950676Z",
     "iopub.status.idle": "2023-10-31T23:03:07.981355Z",
     "shell.execute_reply": "2023-10-31T23:03:07.980764Z"
    },
    "papermill": {
     "duration": 0.035953,
     "end_time": "2023-10-31T23:03:07.982834",
     "exception": false,
     "start_time": "2023-10-31T23:03:07.946881",
     "status": "completed"
    },
    "tags": []
   },
   "outputs": [
    {
     "data": {
      "text/html": [
       "<div>\n",
       "<style scoped>\n",
       "    .dataframe tbody tr th:only-of-type {\n",
       "        vertical-align: middle;\n",
       "    }\n",
       "\n",
       "    .dataframe tbody tr th {\n",
       "        vertical-align: top;\n",
       "    }\n",
       "\n",
       "    .dataframe thead th {\n",
       "        text-align: right;\n",
       "    }\n",
       "</style>\n",
       "<table border=\"1\" class=\"dataframe\">\n",
       "  <thead>\n",
       "    <tr style=\"text-align: right;\">\n",
       "      <th></th>\n",
       "      <th>Patient ID</th>\n",
       "      <th>Patient Age</th>\n",
       "      <th>Exercise Mins</th>\n",
       "      <th>Diabetes Type</th>\n",
       "      <th>Medications</th>\n",
       "      <th>Sex</th>\n",
       "      <th># of Appointments per Year</th>\n",
       "    </tr>\n",
       "  </thead>\n",
       "  <tbody>\n",
       "    <tr>\n",
       "      <th>0</th>\n",
       "      <td>1</td>\n",
       "      <td>51</td>\n",
       "      <td>18</td>\n",
       "      <td>1</td>\n",
       "      <td>3</td>\n",
       "      <td>2</td>\n",
       "      <td>2</td>\n",
       "    </tr>\n",
       "    <tr>\n",
       "      <th>1</th>\n",
       "      <td>2</td>\n",
       "      <td>97</td>\n",
       "      <td>23</td>\n",
       "      <td>2</td>\n",
       "      <td>5</td>\n",
       "      <td>2</td>\n",
       "      <td>2</td>\n",
       "    </tr>\n",
       "    <tr>\n",
       "      <th>2</th>\n",
       "      <td>3</td>\n",
       "      <td>51</td>\n",
       "      <td>68</td>\n",
       "      <td>2</td>\n",
       "      <td>6</td>\n",
       "      <td>1</td>\n",
       "      <td>4</td>\n",
       "    </tr>\n",
       "    <tr>\n",
       "      <th>3</th>\n",
       "      <td>4</td>\n",
       "      <td>60</td>\n",
       "      <td>72</td>\n",
       "      <td>1</td>\n",
       "      <td>3</td>\n",
       "      <td>1</td>\n",
       "      <td>6</td>\n",
       "    </tr>\n",
       "    <tr>\n",
       "      <th>4</th>\n",
       "      <td>5</td>\n",
       "      <td>57</td>\n",
       "      <td>67</td>\n",
       "      <td>2</td>\n",
       "      <td>5</td>\n",
       "      <td>1</td>\n",
       "      <td>2</td>\n",
       "    </tr>\n",
       "    <tr>\n",
       "      <th>...</th>\n",
       "      <td>...</td>\n",
       "      <td>...</td>\n",
       "      <td>...</td>\n",
       "      <td>...</td>\n",
       "      <td>...</td>\n",
       "      <td>...</td>\n",
       "      <td>...</td>\n",
       "    </tr>\n",
       "    <tr>\n",
       "      <th>95</th>\n",
       "      <td>96</td>\n",
       "      <td>40</td>\n",
       "      <td>107</td>\n",
       "      <td>2</td>\n",
       "      <td>5</td>\n",
       "      <td>2</td>\n",
       "      <td>3</td>\n",
       "    </tr>\n",
       "    <tr>\n",
       "      <th>96</th>\n",
       "      <td>97</td>\n",
       "      <td>54</td>\n",
       "      <td>68</td>\n",
       "      <td>1</td>\n",
       "      <td>4</td>\n",
       "      <td>2</td>\n",
       "      <td>5</td>\n",
       "    </tr>\n",
       "    <tr>\n",
       "      <th>97</th>\n",
       "      <td>98</td>\n",
       "      <td>22</td>\n",
       "      <td>173</td>\n",
       "      <td>2</td>\n",
       "      <td>7</td>\n",
       "      <td>2</td>\n",
       "      <td>5</td>\n",
       "    </tr>\n",
       "    <tr>\n",
       "      <th>98</th>\n",
       "      <td>99</td>\n",
       "      <td>37</td>\n",
       "      <td>160</td>\n",
       "      <td>2</td>\n",
       "      <td>6</td>\n",
       "      <td>2</td>\n",
       "      <td>3</td>\n",
       "    </tr>\n",
       "    <tr>\n",
       "      <th>99</th>\n",
       "      <td>100</td>\n",
       "      <td>52</td>\n",
       "      <td>36</td>\n",
       "      <td>1</td>\n",
       "      <td>2</td>\n",
       "      <td>2</td>\n",
       "      <td>5</td>\n",
       "    </tr>\n",
       "  </tbody>\n",
       "</table>\n",
       "<p>100 rows × 7 columns</p>\n",
       "</div>"
      ],
      "text/plain": [
       "    Patient ID  Patient Age  Exercise Mins  Diabetes Type  Medications  Sex  \\\n",
       "0            1           51             18              1            3    2   \n",
       "1            2           97             23              2            5    2   \n",
       "2            3           51             68              2            6    1   \n",
       "3            4           60             72              1            3    1   \n",
       "4            5           57             67              2            5    1   \n",
       "..         ...          ...            ...            ...          ...  ...   \n",
       "95          96           40            107              2            5    2   \n",
       "96          97           54             68              1            4    2   \n",
       "97          98           22            173              2            7    2   \n",
       "98          99           37            160              2            6    2   \n",
       "99         100           52             36              1            2    2   \n",
       "\n",
       "    # of Appointments per Year  \n",
       "0                            2  \n",
       "1                            2  \n",
       "2                            4  \n",
       "3                            6  \n",
       "4                            2  \n",
       "..                         ...  \n",
       "95                           3  \n",
       "96                           5  \n",
       "97                           5  \n",
       "98                           3  \n",
       "99                           5  \n",
       "\n",
       "[100 rows x 7 columns]"
      ]
     },
     "execution_count": 4,
     "metadata": {},
     "output_type": "execute_result"
    }
   ],
   "source": [
    "traindata = pd.DataFrame()\n",
    "\n",
    "\n",
    "traindata['Patient ID'] = np.arange(1, n+1)\n",
    "traindata['Patient Age'] = patient_age\n",
    "traindata['Exercise Mins'] = exercise_minutes\n",
    "traindata['Diabetes Type'] = diabetes_type\n",
    "traindata['Medications'] = medication\n",
    "traindata['Sex'] = np.random.choice([1, 2], n)\n",
    "traindata['# of Appointments per Year'] = np.random.randint(2, 7, n)\n",
    "\n",
    "\n",
    "traindata"
   ]
  },
  {
   "cell_type": "code",
   "execution_count": 5,
   "id": "bf797ea0",
   "metadata": {
    "execution": {
     "iopub.execute_input": "2023-10-31T23:03:07.990198Z",
     "iopub.status.busy": "2023-10-31T23:03:07.989840Z",
     "iopub.status.idle": "2023-10-31T23:03:07.998325Z",
     "shell.execute_reply": "2023-10-31T23:03:07.997730Z"
    },
    "papermill": {
     "duration": 0.013892,
     "end_time": "2023-10-31T23:03:07.999940",
     "exception": false,
     "start_time": "2023-10-31T23:03:07.986048",
     "status": "completed"
    },
    "tags": []
   },
   "outputs": [
    {
     "data": {
      "text/html": [
       "<a download=\"spph_train_data.csv\" href=\"data:text/csv;base64,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\" target=\"_blank\">Download CSV file</a>"
      ],
      "text/plain": [
       "<IPython.core.display.HTML object>"
      ]
     },
     "execution_count": 5,
     "metadata": {},
     "output_type": "execute_result"
    }
   ],
   "source": [
    "def create_download_link(traindata, title = \"Download CSV file\", filename = \"spph_train_data.csv\"):  \n",
    "    csv = traindata.to_csv()\n",
    "    b64 = base64.b64encode(csv.encode())\n",
    "    payload = b64.decode()\n",
    "    html = '<a download=\"{filename}\" href=\"data:text/csv;base64,{payload}\" target=\"_blank\">{title}</a>'\n",
    "    html = html.format(payload=payload,title=title,filename=filename)\n",
    "    return HTML(html)\n",
    "\n",
    "create_download_link(traindata)"
   ]
  },
  {
   "cell_type": "code",
   "execution_count": 6,
   "id": "c81c3d7f",
   "metadata": {
    "execution": {
     "iopub.execute_input": "2023-10-31T23:03:08.007710Z",
     "iopub.status.busy": "2023-10-31T23:03:08.007101Z",
     "iopub.status.idle": "2023-10-31T23:03:08.310367Z",
     "shell.execute_reply": "2023-10-31T23:03:08.309738Z"
    },
    "papermill": {
     "duration": 0.308657,
     "end_time": "2023-10-31T23:03:08.311824",
     "exception": false,
     "start_time": "2023-10-31T23:03:08.003167",
     "status": "completed"
    },
    "tags": []
   },
   "outputs": [
    {
     "data": {
      "image/png": "[encoded data removed]",
      "text/plain": [
       "<Figure size 640x480 with 2 Axes>"
      ]
     },
     "metadata": {},
     "output_type": "display_data"
    }
   ],
   "source": [
    "corr = traindata.corr()\n",
    "ax = sns.heatmap(\n",
    "    corr, \n",
    "    vmin=-1, vmax=1, center=0,\n",
    "    cmap=sns.diverging_palette(220, 20, n=200),\n",
    "    square=True\n",
    ")\n",
    "ax.set_xticklabels(\n",
    "    ax.get_xticklabels(),\n",
    "    rotation=45,\n",
    "    horizontalalignment='right'\n",
    ");"
   ]
  },
  {
   "cell_type": "code",
   "execution_count": 7,
   "id": "0cbf2195",
   "metadata": {
    "execution": {
     "iopub.execute_input": "2023-10-31T23:03:08.320804Z",
     "iopub.status.busy": "2023-10-31T23:03:08.320402Z",
     "iopub.status.idle": "2023-10-31T23:03:08.640579Z",
     "shell.execute_reply": "2023-10-31T23:03:08.639508Z"
    },
    "papermill": {
     "duration": 0.326494,
     "end_time": "2023-10-31T23:03:08.642329",
     "exception": false,
     "start_time": "2023-10-31T23:03:08.315835",
     "status": "completed"
    },
    "tags": []
   },
   "outputs": [
    {
     "data": {
      "image/png": "[encoded data removed]",
      "text/plain": [
       "<Figure size 1100x900 with 2 Axes>"
      ]
     },
     "metadata": {},
     "output_type": "display_data"
    }
   ],
   "source": [
    "# Generate a mask for the upper triangle\n",
    "mask = np.zeros_like(corr, dtype= bool)\n",
    "mask[np.triu_indices_from(mask)] = True\n",
    "\n",
    "# Set up the matplotlib figure\n",
    "f, ax = plt.subplots(figsize=(11, 9))\n",
    "\n",
    "# Generate a custom diverging colormap\n",
    "cmap = sns.diverging_palette(220, 10, as_cmap=True)\n",
    "#cmap = sns.diverging_palette(20, 220, n=400)\n",
    "\n",
    "# Draw the heatmap with the mask and correct aspect ratio\n",
    "ax = sns.heatmap(corr, mask=mask, cmap=cmap, vmax=1, center=0,\n",
    "            square=True, linewidths=.5, cbar_kws={\"shrink\": .7})\n",
    "ax.set_xticklabels(\n",
    "    ax.get_xticklabels(),\n",
    "    rotation=45,\n",
    "    horizontalalignment='right'\n",
    ");"
   ]
  },
  {
   "cell_type": "code",
   "execution_count": 8,
   "id": "88e9d269",
   "metadata": {
    "execution": {
     "iopub.execute_input": "2023-10-31T23:03:08.652965Z",
     "iopub.status.busy": "2023-10-31T23:03:08.652178Z",
     "iopub.status.idle": "2023-10-31T23:03:08.669643Z",
     "shell.execute_reply": "2023-10-31T23:03:08.668760Z"
    },
    "papermill": {
     "duration": 0.024687,
     "end_time": "2023-10-31T23:03:08.671480",
     "exception": false,
     "start_time": "2023-10-31T23:03:08.646793",
     "status": "completed"
    },
    "tags": []
   },
   "outputs": [
    {
     "data": {
      "text/plain": [
       "(0.4961566965097267, 158.16153715952663, array([-1.41685429]))"
      ]
     },
     "execution_count": 8,
     "metadata": {},
     "output_type": "execute_result"
    }
   ],
   "source": [
    "x = np.array(patient_age).reshape((-1, 1))\n",
    "y = np.array(exercise_minutes)\n",
    "\n",
    "model = LinearRegression()\n",
    "\n",
    "model.fit(x,y)\n",
    "\n",
    "r_sq = model.score(x, y)\n",
    "\n",
    "r_sq, model.intercept_, model.coef_"
   ]
  },
  {
   "cell_type": "code",
   "execution_count": 9,
   "id": "81bae029",
   "metadata": {
    "execution": {
     "iopub.execute_input": "2023-10-31T23:03:08.681823Z",
     "iopub.status.busy": "2023-10-31T23:03:08.681560Z",
     "iopub.status.idle": "2023-10-31T23:03:08.693473Z",
     "shell.execute_reply": "2023-10-31T23:03:08.692562Z"
    },
    "papermill": {
     "duration": 0.019167,
     "end_time": "2023-10-31T23:03:08.695290",
     "exception": false,
     "start_time": "2023-10-31T23:03:08.676123",
     "status": "completed"
    },
    "tags": []
   },
   "outputs": [
    {
     "data": {
      "text/html": [
       "<div>\n",
       "<style scoped>\n",
       "    .dataframe tbody tr th:only-of-type {\n",
       "        vertical-align: middle;\n",
       "    }\n",
       "\n",
       "    .dataframe tbody tr th {\n",
       "        vertical-align: top;\n",
       "    }\n",
       "\n",
       "    .dataframe thead th {\n",
       "        text-align: right;\n",
       "    }\n",
       "</style>\n",
       "<table border=\"1\" class=\"dataframe\">\n",
       "  <thead>\n",
       "    <tr style=\"text-align: right;\">\n",
       "      <th></th>\n",
       "      <th>Age</th>\n",
       "      <th>Predicted Mins of Exercise</th>\n",
       "    </tr>\n",
       "  </thead>\n",
       "  <tbody>\n",
       "    <tr>\n",
       "      <th>0</th>\n",
       "      <td>51</td>\n",
       "      <td>85.901968</td>\n",
       "    </tr>\n",
       "    <tr>\n",
       "      <th>1</th>\n",
       "      <td>97</td>\n",
       "      <td>20.726671</td>\n",
       "    </tr>\n",
       "    <tr>\n",
       "      <th>2</th>\n",
       "      <td>51</td>\n",
       "      <td>85.901968</td>\n",
       "    </tr>\n",
       "    <tr>\n",
       "      <th>3</th>\n",
       "      <td>60</td>\n",
       "      <td>73.150280</td>\n",
       "    </tr>\n",
       "    <tr>\n",
       "      <th>4</th>\n",
       "      <td>57</td>\n",
       "      <td>77.400843</td>\n",
       "    </tr>\n",
       "    <tr>\n",
       "      <th>...</th>\n",
       "      <td>...</td>\n",
       "      <td>...</td>\n",
       "    </tr>\n",
       "    <tr>\n",
       "      <th>95</th>\n",
       "      <td>40</td>\n",
       "      <td>101.487366</td>\n",
       "    </tr>\n",
       "    <tr>\n",
       "      <th>96</th>\n",
       "      <td>54</td>\n",
       "      <td>81.651406</td>\n",
       "    </tr>\n",
       "    <tr>\n",
       "      <th>97</th>\n",
       "      <td>22</td>\n",
       "      <td>126.990743</td>\n",
       "    </tr>\n",
       "    <tr>\n",
       "      <th>98</th>\n",
       "      <td>37</td>\n",
       "      <td>105.737928</td>\n",
       "    </tr>\n",
       "    <tr>\n",
       "      <th>99</th>\n",
       "      <td>52</td>\n",
       "      <td>84.485114</td>\n",
       "    </tr>\n",
       "  </tbody>\n",
       "</table>\n",
       "<p>100 rows × 2 columns</p>\n",
       "</div>"
      ],
      "text/plain": [
       "    Age  Predicted Mins of Exercise\n",
       "0    51                   85.901968\n",
       "1    97                   20.726671\n",
       "2    51                   85.901968\n",
       "3    60                   73.150280\n",
       "4    57                   77.400843\n",
       "..  ...                         ...\n",
       "95   40                  101.487366\n",
       "96   54                   81.651406\n",
       "97   22                  126.990743\n",
       "98   37                  105.737928\n",
       "99   52                   84.485114\n",
       "\n",
       "[100 rows x 2 columns]"
      ]
     },
     "execution_count": 9,
     "metadata": {},
     "output_type": "execute_result"
    }
   ],
   "source": [
    "y_pred = model.predict(x)\n",
    "\n",
    "#predicted minutes of exercise given a certain age\n",
    "\n",
    "data1 = pd.DataFrame()\n",
    "\n",
    "data1['Age'] = patient_age\n",
    "data1['Predicted Mins of Exercise'] = y_pred\n",
    "\n",
    "data1"
   ]
  },
  {
   "cell_type": "code",
   "execution_count": 10,
   "id": "c4318f47",
   "metadata": {
    "execution": {
     "iopub.execute_input": "2023-10-31T23:03:08.705604Z",
     "iopub.status.busy": "2023-10-31T23:03:08.705357Z",
     "iopub.status.idle": "2023-10-31T23:03:08.786041Z",
     "shell.execute_reply": "2023-10-31T23:03:08.785251Z"
    },
    "papermill": {
     "duration": 0.087859,
     "end_time": "2023-10-31T23:03:08.787883",
     "exception": false,
     "start_time": "2023-10-31T23:03:08.700024",
     "status": "completed"
    },
    "tags": []
   },
   "outputs": [
    {
     "data": {
      "image/png": "[encoded data removed]",
      "text/plain": [
       "<Figure size 640x480 with 1 Axes>"
      ]
     },
     "metadata": {},
     "output_type": "display_data"
    }
   ],
   "source": [
    "plt.scatter(patient_age, exercise_minutes, color=\"black\")\n",
    "plt.plot(patient_age, y_pred, color=\"blue\", linewidth=3)\n",
    "\n",
    "plt.xticks(())\n",
    "plt.yticks(())\n",
    "\n",
    "plt.show()"
   ]
  },
  {
   "cell_type": "code",
   "execution_count": 11,
   "id": "1e92f019",
   "metadata": {
    "execution": {
     "iopub.execute_input": "2023-10-31T23:03:08.802141Z",
     "iopub.status.busy": "2023-10-31T23:03:08.801808Z",
     "iopub.status.idle": "2023-10-31T23:03:08.812240Z",
     "shell.execute_reply": "2023-10-31T23:03:08.811607Z"
    },
    "papermill": {
     "duration": 0.019422,
     "end_time": "2023-10-31T23:03:08.813840",
     "exception": false,
     "start_time": "2023-10-31T23:03:08.794418",
     "status": "completed"
    },
    "tags": []
   },
   "outputs": [
    {
     "data": {
      "text/plain": [
       "['Patient ID', 'Patient Age']"
      ]
     },
     "execution_count": 11,
     "metadata": {},
     "output_type": "execute_result"
    }
   ],
   "source": [
    "file = open('/kaggle/input/dkfhas/Test Data 2.csv')\n",
    "type(file)\n",
    "\n",
    "csvreader = csv.reader(file)\n",
    "\n",
    "header = []\n",
    "header = next(csvreader)\n",
    "header"
   ]
  },
  {
   "cell_type": "code",
   "execution_count": 12,
   "id": "e717730e",
   "metadata": {
    "execution": {
     "iopub.execute_input": "2023-10-31T23:03:08.827987Z",
     "iopub.status.busy": "2023-10-31T23:03:08.827749Z",
     "iopub.status.idle": "2023-10-31T23:03:08.837164Z",
     "shell.execute_reply": "2023-10-31T23:03:08.836584Z"
    },
    "papermill": {
     "duration": 0.01831,
     "end_time": "2023-10-31T23:03:08.838801",
     "exception": false,
     "start_time": "2023-10-31T23:03:08.820491",
     "status": "completed"
    },
    "tags": []
   },
   "outputs": [
    {
     "data": {
      "text/plain": [
       "[['', ''],\n",
       " ['1', '18'],\n",
       " ['2', '82'],\n",
       " ['3', '69'],\n",
       " ['4', '86'],\n",
       " ['5', '35'],\n",
       " ['6', '38'],\n",
       " ['7', '46'],\n",
       " ['8', '20'],\n",
       " ['9', '67'],\n",
       " ['10', '90'],\n",
       " ['11', '63'],\n",
       " ['12', '76'],\n",
       " ['13', '90'],\n",
       " ['14', '37'],\n",
       " ['15', '30'],\n",
       " ['16', '25'],\n",
       " ['17', '76'],\n",
       " ['18', '26'],\n",
       " ['19', '56'],\n",
       " ['20', '46'],\n",
       " ['21', '48'],\n",
       " ['22', '99'],\n",
       " ['23', '29'],\n",
       " ['24', '42'],\n",
       " ['25', '71'],\n",
       " ['26', '70'],\n",
       " ['27', '69'],\n",
       " ['28', '65'],\n",
       " ['29', '67'],\n",
       " ['30', '47'],\n",
       " ['31', '69'],\n",
       " ['32', '81'],\n",
       " ['33', '46'],\n",
       " ['34', '91'],\n",
       " ['35', '95'],\n",
       " ['36', '27'],\n",
       " ['37', '76'],\n",
       " ['38', '29'],\n",
       " ['39', '40'],\n",
       " ['40', '86'],\n",
       " ['41', '19'],\n",
       " ['42', '45'],\n",
       " ['43', '44'],\n",
       " ['44', '34'],\n",
       " ['45', '80'],\n",
       " ['46', '37'],\n",
       " ['47', '34'],\n",
       " ['48', '57'],\n",
       " ['49', '98'],\n",
       " ['50', '84'],\n",
       " ['51', '24'],\n",
       " ['52', '72'],\n",
       " ['53', '78'],\n",
       " ['54', '70'],\n",
       " ['55', '31'],\n",
       " ['56', '18'],\n",
       " ['57', '68'],\n",
       " ['58', '64'],\n",
       " ['59', '54'],\n",
       " ['60', '83'],\n",
       " ['61', '67'],\n",
       " ['62', '23'],\n",
       " ['63', '42'],\n",
       " ['64', '69'],\n",
       " ['65', '64'],\n",
       " ['66', '74'],\n",
       " ['67', '88'],\n",
       " ['68', '99'],\n",
       " ['69', '99'],\n",
       " ['70', '87'],\n",
       " ['71', '42'],\n",
       " ['72', '22'],\n",
       " ['73', '84'],\n",
       " ['74', '79'],\n",
       " ['75', '44'],\n",
       " ['76', '76'],\n",
       " ['77', '37'],\n",
       " ['78', '70'],\n",
       " ['79', '85'],\n",
       " ['80', '37'],\n",
       " ['81', '68'],\n",
       " ['82', '56'],\n",
       " ['83', '87'],\n",
       " ['84', '46'],\n",
       " ['85', '59'],\n",
       " ['86', '83'],\n",
       " ['87', '53'],\n",
       " ['88', '76'],\n",
       " ['89', '80'],\n",
       " ['90', '43'],\n",
       " ['91', '54'],\n",
       " ['92', '85'],\n",
       " ['93', '69'],\n",
       " ['94', '38'],\n",
       " ['95', '81'],\n",
       " ['96', '40'],\n",
       " ['97', '20'],\n",
       " ['98', '92'],\n",
       " ['99', '54'],\n",
       " ['100', '47']]"
      ]
     },
     "execution_count": 12,
     "metadata": {},
     "output_type": "execute_result"
    }
   ],
   "source": [
    "rows = []\n",
    "for row in csvreader:\n",
    "    rows.append(row)\n",
    "rows"
   ]
  }
 ],
 "metadata": {
  "kernelspec": {
   "display_name": "Python 3",
   "language": "python",
   "name": "python3"
  },
  "language_info": {
   "codemirror_mode": {
    "name": "ipython",
    "version": 3
   },
   "file_extension": ".py",
   "mimetype": "text/x-python",
   "name": "python",
   "nbconvert_exporter": "python",
   "pygments_lexer": "ipython3",
   "version": "3.10.12"
  },
  "papermill": {
   "default_parameters": {},
   "duration": 5.614826,
   "end_time": "2023-10-31T23:03:09.262268",
   "environment_variables": {},
   "exception": null,
   "input_path": "__notebook__.ipynb",
   "output_path": "__notebook__.ipynb",
   "parameters": {},
   "start_time": "2023-10-31T23:03:03.647442",
   "version": "2.4.0"
  }
 },
 "nbformat": 4,
 "nbformat_minor": 5
}
